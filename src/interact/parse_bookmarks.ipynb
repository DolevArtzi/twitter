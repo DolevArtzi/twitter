{
 "cells": [
  {
   "cell_type": "code",
   "execution_count": null,
   "metadata": {},
   "outputs": [],
   "source": [
    "# from collections import defaultdict\n",
    "# author_m = defaultdict(list)\n",
    "# for b in data:\n",
    "#     name = b['handle']\n",
    "#     author_m[name].append(b)\n",
    "# author_counts = [(k,len(author_m[k])) for k in author_m]\n",
    "# ordered_authors = sorted(author_counts,key=lambda x:-x[1])\n",
    "# heavy_hitters = [x for x in ordered_authors if x[1] > 5]\n",
    "# len(heavy_hitters),heavy_hitters"
   ]
  },
  {
   "cell_type": "code",
   "execution_count": 1,
   "metadata": {},
   "outputs": [],
   "source": [
    "from tweetretriever import TweetRetriever\n",
    "tr = TweetRetriever()"
   ]
  },
  {
   "cell_type": "code",
   "execution_count": null,
   "metadata": {},
   "outputs": [],
   "source": [
    "# japan_strs = ['tokyo','japan','japow','hiroshima','nagasaki','samurai']\n",
    "# japan_tweets = tr.filterContainsAndWrite(japan_strs,'japan_tweets.json','all',shareable=True)"
   ]
  },
  {
   "cell_type": "code",
   "execution_count": null,
   "metadata": {},
   "outputs": [],
   "source": [
    "import json\n",
    "dylan_likes = tr.loadFromFile('../dylan_all_likes.json')\n",
    "with open('../analyzed_data/shareable/dylan_likes_pretty.txt','x') as f:\n",
    "    f.write(\"Dylan Schulman's Twitter Likes as of 2.23.24\\n\\n\")\n",
    "    tr._excludeInteractions(dylan_likes)\n",
    "    tr._cleanNames(dylan_likes)\n",
    "    for t in dylan_likes:\n",
    "        f.write(json.dumps(t,indent=2))\n",
    "        f.write('\\n\\n')\n",
    "        "
   ]
  },
  {
   "cell_type": "code",
   "execution_count": null,
   "metadata": {},
   "outputs": [],
   "source": [
    "import json\n",
    "dylan_likes = tr.loadFromFile('../dylan_posts.json')\n",
    "with open('../analyzed_data/shareable/dylan_posts_pretty.txt','x') as f:\n",
    "    f.write(\"Dylan Schulman's Twitter Posts as of 2.23.24\\n\\n\")\n",
    "    tr._excludeInteractions(dylan_likes)\n",
    "    tr._cleanNames(dylan_likes)\n",
    "    for t in dylan_likes:\n",
    "        f.write(json.dumps(t,indent=2))\n",
    "        f.write('\\n\\n')\n",
    "        "
   ]
  },
  {
   "cell_type": "code",
   "execution_count": 2,
   "metadata": {},
   "outputs": [],
   "source": [
    "dylan_likes = tr.loadFromFile('../dylan_all_likes.json')\n",
    "dylan_posts = tr.loadFromFile('../dylan_posts.json')\n",
    "dylan_all = tr._union(dylan_likes,dylan_posts)\n",
    "data = [dylan_likes,dylan_posts,dylan_all]\n",
    "for d in data:\n",
    "    tr._cleanNames(d)"
   ]
  },
  {
   "cell_type": "code",
   "execution_count": 3,
   "metadata": {},
   "outputs": [
    {
     "name": "stdout",
     "output_type": "stream",
     "text": [
      "================================================================================\n",
      "In dataset \"posts\"\n",
      "Searching for substrings:\n",
      "Writing 6 Tweets to dylan_rockets.json...\n",
      "Writing 6 Prettyfied Tweets to dylan_rockets.txt...\n",
      "Done\n",
      "================================================================================\n"
     ]
    }
   ],
   "source": [
    "sport_strs = ['rockets','harden','kpj','houston']\n",
    "dylan_sports_tweets = tr.filterContainsAndWrite(sport_strs,'dylan_rockets.json',dataset=('posts',dylan_posts[:]),shareable=True)"
   ]
  },
  {
   "cell_type": "code",
   "execution_count": 4,
   "metadata": {},
   "outputs": [
    {
     "name": "stdout",
     "output_type": "stream",
     "text": [
      "================================================================================\n",
      "In dataset \"likes\"\n",
      "Searching for substrings:\n",
      "Writing 22 Tweets to dylan_rockets_likes.json...\n",
      "Writing 22 Prettyfied Tweets to dylan_rockets_likes.txt...\n",
      "Done\n",
      "================================================================================\n"
     ]
    }
   ],
   "source": [
    "sport_strs = ['rockets','harden','kpj','houston']\n",
    "dylan_sports_tweets = tr.filterContainsAndWrite(sport_strs,'dylan_rockets_likes.json',dataset=('likes',dylan_likes[:]),shareable=True)"
   ]
  },
  {
   "cell_type": "code",
   "execution_count": 12,
   "metadata": {},
   "outputs": [
    {
     "data": {
      "text/plain": [
       "[{'authorName': 'Dylan',\n",
       "  'handle': 'dylschulma',\n",
       "  'tweetText': 'Hate when I’m ordering from an Italian place and they try to be authentic with naming the sections of the menu. I’m not tryna decipher what section contorni is. Just call that shit the sides',\n",
       "  'fullText': 'Dylan',\n",
       "  'time': '2023-12-16T22:34:55.000Z',\n",
       "  'postUrl': 'https://twitter.com/dylschulma/status/1736152957110947939'},\n",
       " {'authorName': 'Dylan',\n",
       "  'handle': 'dylschulma',\n",
       "  'tweetText': 'Wow I fucking hate Newcastle #ftm',\n",
       "  'fullText': 'Dylan',\n",
       "  'time': '2024-01-06T14:16:33.000Z',\n",
       "  'postUrl': 'https://twitter.com/dylschulma/status/1743637681161007242'},\n",
       " {'authorName': 'Dylan',\n",
       "  'handle': 'dylschulma',\n",
       "  'tweetText': 'Paris Texas the hardest shit out right now bar maybe Baby Keem',\n",
       "  'fullText': 'Dylan',\n",
       "  'time': '2023-07-25T00:42:32.000Z',\n",
       "  'postUrl': 'https://twitter.com/dylschulma/status/1683638830954430466'},\n",
       " {'authorName': 'Jason ',\n",
       "  'handle': 'dylschulma',\n",
       "  'tweetText': 'Watching Deshaun Watson fucking suck',\n",
       "  'fullText': 'Dylan reposted',\n",
       "  'time': '2022-12-11T20:07:23.000Z',\n",
       "  'postUrl': 'https://twitter.com/spongebobsloth/status/1602032319250010114'}]"
      ]
     },
     "execution_count": 12,
     "metadata": {},
     "output_type": "execute_result"
    }
   ],
   "source": [
    "swears = ['fuck','bitch','shit','fag','retard','cunt']\n",
    "dylan_swears_tweets = tr.filterContains(swears,('posts',dylan_posts[:]))\n",
    "dylan_swears_tweets"
   ]
  },
  {
   "cell_type": "code",
   "execution_count": 16,
   "metadata": {},
   "outputs": [
    {
     "data": {
      "text/plain": [
       "[{'authorName': 'Brian T. Smith',\n",
       "  'handle': 'dylschulma',\n",
       "  'tweetText': 'Astros in ALCS.\\nTexans move on from Jack Easterby.\\nRockets extend Kevin Porter Jr. \\nHigh of 68 degrees tomorrow. \\nHouston sports are back.',\n",
       "  'fullText': 'Dylan reposted',\n",
       "  'time': '2022-10-17T14:58:55.000Z',\n",
       "  'postUrl': 'https://twitter.com/BTSmithUK/status/1582023355733274627'}]"
      ]
     },
     "execution_count": 16,
     "metadata": {},
     "output_type": "execute_result"
    }
   ],
   "source": [
    "harden = []\n",
    "dylan_harden_tweets = tr.filterContains(harden,('posts',dylan_posts[:]))\n",
    "dylan_harden_tweets"
   ]
  }
 ],
 "metadata": {
  "kernelspec": {
   "display_name": "Python 3.11.6 64-bit",
   "language": "python",
   "name": "python3"
  },
  "language_info": {
   "codemirror_mode": {
    "name": "ipython",
    "version": 3
   },
   "file_extension": ".py",
   "mimetype": "text/x-python",
   "name": "python",
   "nbconvert_exporter": "python",
   "pygments_lexer": "ipython3",
   "version": "3.11.6"
  },
  "orig_nbformat": 4,
  "vscode": {
   "interpreter": {
    "hash": "b0fa6594d8f4cbf19f97940f81e996739fb7646882a419484c72d19e05852a7e"
   }
  }
 },
 "nbformat": 4,
 "nbformat_minor": 2
}
